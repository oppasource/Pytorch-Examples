{
 "cells": [
  {
   "cell_type": "markdown",
   "metadata": {},
   "source": [
    "# Linear Regressing using Pytorch\n",
    "\n",
    "This is a simple demonstration of regression using pytorch where we use a dummy dataset. We will first initialize the model and see how it performs without any training. Then we will train the model and see the difference."
   ]
  },
  {
   "cell_type": "code",
   "execution_count": 1,
   "metadata": {},
   "outputs": [
    {
     "data": {
      "image/png": "[encoded data removed]",
      "text/plain": [
       "<matplotlib.figure.Figure at 0x7ff5bcc0d550>"
      ]
     },
     "metadata": {},
     "output_type": "display_data"
    }
   ],
   "source": [
    "%matplotlib inline\n",
    "\n",
    "import numpy as np\n",
    "import matplotlib.pyplot as plt\n",
    "import pandas as pd\n",
    "\n",
    "import torch\n",
    "from torch.autograd import Variable\n",
    "\n",
    "import warnings\n",
    "warnings.simplefilter(action='ignore', category=FutureWarning)\n",
    "\n",
    "# Loading data and converting it to numpy array\n",
    "data = pd.read_csv(\"data.csv\")\n",
    "x = data.iloc[:,0].values  \n",
    "y = data.iloc[:,1].values\n",
    "\n",
    "# This step is for making the numpy array of suitable shape\n",
    "x = np.asarray([x]).T\n",
    "y = np.asarray([y]).T\n",
    "\n",
    "# Converting numpy array to torch tensor so that we can feed this to the model\n",
    "x_data = Variable(torch.from_numpy(x).float())\n",
    "y_data = Variable(torch.from_numpy(y).float())\n",
    "\n",
    "# Defining our model, in this case its a simple linear regression model\n",
    "class Model(torch.nn.Module):\n",
    "    def __init__(self):\n",
    "        super(Model, self).__init__()\n",
    "        self.linear = torch.nn.Linear(1, 1)\n",
    "\n",
    "    def forward(self, inp):\n",
    "        y_pred = self.linear(inp)\n",
    "        return y_pred\n",
    "\n",
    "# Initializing our model\n",
    "model = Model()\n",
    "\n",
    "# Getting the output to see how our model performs with no training at all\n",
    "plt.scatter(x,y)\n",
    "plt.plot(x,model(x_data).data.numpy(), color = 'r')\n",
    "plt.show()"
   ]
  },
  {
   "cell_type": "code",
   "execution_count": 2,
   "metadata": {},
   "outputs": [
    {
     "name": "stdout",
     "output_type": "stream",
     "text": [
      "Epoch [100/500], Loss: 1389.5441\n",
      "Epoch [200/500], Loss: 1373.5714\n",
      "Epoch [300/500], Loss: 1359.9391\n",
      "Epoch [400/500], Loss: 1348.3037\n",
      "Epoch [500/500], Loss: 1338.3728\n",
      "Training Completed!\n"
     ]
    }
   ],
   "source": [
    "lr = 0.001\n",
    "epochs = 500\n",
    "\n",
    "# Defining the loss function and optimiser for our model\n",
    "criterion = torch.nn.MSELoss()\n",
    "optimizer = torch.optim.SGD(model.parameters(), lr=lr)\n",
    "\n",
    "# Running the training loop\n",
    "for epoch in range(epochs):\n",
    "    # Getting the output (forward propagation)\n",
    "    y_pred = model(x_data)\n",
    "    \n",
    "    # Calculating the loss\n",
    "    loss = criterion(y_pred, y_data)\n",
    "    \n",
    "    # We first make all the gradients 0 because pytorch accumulates all the previous gradients\n",
    "    # Then we perform backpropagation which calculates all the gradients\n",
    "    # Finally we update the weights using those gradients\n",
    "    optimizer.zero_grad()\n",
    "    loss.backward()\n",
    "    optimizer.step()\n",
    "    \n",
    "    if (epoch+1) % 100 == 0:\n",
    "        print ('Epoch [%d/%d], Loss: %.4f'%(epoch+1, epochs, loss.data[0]))\n",
    "\n",
    "print(\"Training Completed!\")"
   ]
  },
  {
   "cell_type": "code",
   "execution_count": 3,
   "metadata": {},
   "outputs": [
    {
     "data": {
      "image/png": "[encoded data removed]",
      "text/plain": [
       "<matplotlib.figure.Figure at 0x7ff560b12198>"
      ]
     },
     "metadata": {},
     "output_type": "display_data"
    }
   ],
   "source": [
    "# Finally we see how our model has been trained \n",
    "plt.scatter(x,y)\n",
    "plt.plot(x,model(x_data).data.numpy(), color = 'r')\n",
    "plt.show()"
   ]
  }
 ],
 "metadata": {
  "kernelspec": {
   "display_name": "Python 3",
   "language": "python",
   "name": "python3"
  },
  "language_info": {
   "codemirror_mode": {
    "name": "ipython",
    "version": 3
   },
   "file_extension": ".py",
   "mimetype": "text/x-python",
   "name": "python",
   "nbconvert_exporter": "python",
   "pygments_lexer": "ipython3",
   "version": "3.4.3"
  }
 },
 "nbformat": 4,
 "nbformat_minor": 2
}
